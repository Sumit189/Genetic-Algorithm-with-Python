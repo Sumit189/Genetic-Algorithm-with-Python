{
  "nbformat": 4,
  "nbformat_minor": 0,
  "metadata": {
    "colab": {
      "name": "Travelling Salesman Problem Using Genetic Algorithm.ipynb",
      "provenance": [],
      "collapsed_sections": [],
      "include_colab_link": true
    },
    "kernelspec": {
      "name": "python3",
      "display_name": "Python 3"
    },
    "accelerator": "GPU"
  },
  "cells": [
    {
      "cell_type": "markdown",
      "metadata": {
        "id": "view-in-github",
        "colab_type": "text"
      },
      "source": [
        "<a href=\"https://colab.research.google.com/github/Sumit189/Genetic-Algorithm-with-Python/blob/master/Travelling_Salesman_Problem_Using_Genetic_Algorithm.ipynb\" target=\"_parent\"><img src=\"https://colab.research.google.com/assets/colab-badge.svg\" alt=\"Open In Colab\"/></a>"
      ]
    },
    {
      "cell_type": "markdown",
      "metadata": {
        "id": "5moNq2RRb08E",
        "colab_type": "text"
      },
      "source": [
        "#Libraries"
      ]
    },
    {
      "cell_type": "code",
      "metadata": {
        "id": "O_hCmzCDapgH",
        "colab_type": "code",
        "colab": {}
      },
      "source": [
        "import numpy as np\n",
        "import random \n",
        "random.seed()"
      ],
      "execution_count": 0,
      "outputs": []
    },
    {
      "cell_type": "markdown",
      "metadata": {
        "id": "xmKvEXKpb8O4",
        "colab_type": "text"
      },
      "source": [
        "#GENETIC ALGO"
      ]
    },
    {
      "cell_type": "code",
      "metadata": {
        "id": "Fe-kkE6Fb7nt",
        "colab_type": "code",
        "colab": {}
      },
      "source": [
        "class genetic(object):\n",
        "  #generate population\n",
        "  def gen_population(self,size,low,high):\n",
        "    #print(\"Generating Population\")\n",
        "    y=np.zeros([size,size])\n",
        "    for i in range(0,size):\n",
        "      for j in range(0,size):\n",
        "        list_of_route=[]\n",
        "      for k in range(0,size):\n",
        "        random_num=random.randint(low,high)\n",
        "        while(random_num in list_of_route):\n",
        "          random_num=random.randint(low,high)\n",
        "        list_of_route.append(random_num)\n",
        "      y[i]=np.asarray(list_of_route)\n",
        "    return y\n",
        "\n",
        "  #fitness\n",
        "  def fitness(self,samples):\n",
        "    #print(\"Fitness\")\n",
        "    sum=0\n",
        "    total_distance=[]\n",
        "    for i in range(0,samples.shape[0]):\n",
        "      for j in range(1,samples.shape[1]):\n",
        "        sum+=distances[int(samples[i][j-1]),int(samples[i][j])] \n",
        "      total_distance.append(sum)\n",
        "      sum=0\n",
        "    return total_distance\n",
        "\n",
        "  #selection\n",
        "  def selection(self,fit):\n",
        "    #print(\"Selection\")\n",
        "    best=[]\n",
        "    new_fit=fit.copy()\n",
        "    new_fit.sort()\n",
        "    size_slice=int(size/2)\n",
        "    best=new_fit[0:size_slice]\n",
        "    indexes=[]\n",
        "    for i in range(len(best)):\n",
        "      indexes.append(fit.index(best[i]))\n",
        "    best_sample=samples[indexes].tolist()\n",
        "    return best_sample,indexes\n",
        "\n",
        "  #crossover\n",
        "  def crossover(self,best_samples,indexes):\n",
        "    #print(\"Crossover\")\n",
        "    new_offspring=np.zeros([2,4])\n",
        "    for i in range(len(best_samples)):\n",
        "      for j in range(len(best_samples[0])):\n",
        "        if j<(len(best_samples[1]))/2:\n",
        "          new_offspring[i][j]=best_samples[i][j]\n",
        "        else:\n",
        "          if i==0:\n",
        "            k=0\n",
        "            while k<len(best_samples[1]):\n",
        "              if best_samples[i+1][k] not in new_offspring[i]:\n",
        "                new_offspring[i][j]=best_samples[i+1][k]\n",
        "                k=5\n",
        "              k+=1\n",
        "          else:\n",
        "            k=0\n",
        "            while k<len(best_samples[1]):\n",
        "              if best_samples[i-1][k] not in new_offspring[i]:\n",
        "                new_offspring[i][j]=best_samples[i-1][k]\n",
        "                k=5\n",
        "              k+=1\n",
        "    return new_offspring\n",
        "\n",
        "  #mutation\n",
        "  def mutation(self,crossed):\n",
        "    #print(\"Mutation\")\n",
        "    for i in range(crossed.shape[0]):\n",
        "      random.seed()\n",
        "      x1=random.randint(0,3)\n",
        "      x2=random.randint(0,3)\n",
        "      crossed[i][x1],crossed[i][x2]=crossed[i][x2],crossed[i][x1]\n",
        "    return crossed"
      ],
      "execution_count": 0,
      "outputs": []
    },
    {
      "cell_type": "code",
      "metadata": {
        "id": "jUpq3nkKejZo",
        "colab_type": "code",
        "outputId": "821bfeb9-49ea-43a2-cc53-6b6703cfe6ce",
        "colab": {
          "base_uri": "https://localhost:8080/",
          "height": 518
        }
      },
      "source": [
        "cities=[]\n",
        "number_of_cities=int(input(\"Enter number of Cities: \"))\n",
        "for i in range(0,number_of_cities):\n",
        "  cities.append(str(input(\"Enter name of  city {}: \".format(i+1))))\n",
        "city=np.arange(number_of_cities)\n",
        "\n",
        "distances=np.zeros([number_of_cities,number_of_cities],dtype='int16')\n",
        "for i in range(0,number_of_cities):\n",
        "  print(\"\\nDistances from {}: \".format(cities[i]))\n",
        "  for j in range(0,number_of_cities):\n",
        "    x=int(input(\"Enter the distance from city {} to city {} : \".format(cities[i],cities[j])))\n",
        "    distances[i][j]=x"
      ],
      "execution_count": 46,
      "outputs": [
        {
          "output_type": "stream",
          "text": [
            "Enter number of Cities: 4\n",
            "Enter name of  city 1: LPU\n",
            "Enter name of  city 2: VIVA\n",
            "Enter name of  city 3: JALANDHAR\n",
            "Enter name of  city 4: PHAGWARA\n",
            "\n",
            "Distances from LPU: \n",
            "Enter the distance from city LPU to city LPU : 0\n",
            "Enter the distance from city LPU to city VIVA : 5\n",
            "Enter the distance from city LPU to city JALANDHAR : 15\n",
            "Enter the distance from city LPU to city PHAGWARA : 10\n",
            "\n",
            "Distances from VIVA: \n",
            "Enter the distance from city VIVA to city LPU : 5\n",
            "Enter the distance from city VIVA to city VIVA : 0\n",
            "Enter the distance from city VIVA to city JALANDHAR : 10\n",
            "Enter the distance from city VIVA to city PHAGWARA : 20\n",
            "\n",
            "Distances from JALANDHAR: \n",
            "Enter the distance from city JALANDHAR to city LPU : 15\n",
            "Enter the distance from city JALANDHAR to city VIVA : 10\n",
            "Enter the distance from city JALANDHAR to city JALANDHAR : 0\n",
            "Enter the distance from city JALANDHAR to city PHAGWARA : 25\n",
            "\n",
            "Distances from PHAGWARA: \n",
            "Enter the distance from city PHAGWARA to city LPU : 10\n",
            "Enter the distance from city PHAGWARA to city VIVA : 15\n",
            "Enter the distance from city PHAGWARA to city JALANDHAR : 25\n",
            "Enter the distance from city PHAGWARA to city PHAGWARA : 0\n"
          ],
          "name": "stdout"
        }
      ]
    },
    {
      "cell_type": "code",
      "metadata": {
        "id": "gegqeKk3Zl-f",
        "colab_type": "code",
        "colab": {}
      },
      "source": [
        "k=1\n",
        "low=0\n",
        "high=number_of_cities-1\n",
        "size=number_of_cities\n",
        "best_distance=10000\n",
        "best_route=[]\n",
        "min_distance=[]\n",
        "torun=True"
      ],
      "execution_count": 0,
      "outputs": []
    },
    {
      "cell_type": "code",
      "metadata": {
        "id": "6a91kxqv-xYe",
        "colab_type": "code",
        "colab": {
          "base_uri": "https://localhost:8080/",
          "height": 69
        },
        "outputId": "ff607484-1ca7-4456-f7ba-9fed2ac610ce"
      },
      "source": [
        "gene=genetic()\n",
        "samples=gene.gen_population(size,low,high)\n",
        "while(torun):\n",
        "  #print(\"Iteration : \",k)\n",
        "  fit=gene.fitness(samples)\n",
        "  for find_min in fit:\n",
        "    if find_min<best_distance:\n",
        "      best_distance=find_min\n",
        "  min_distance.append(best_distance)\n",
        " \n",
        "  if(best_distance>=min(min_distance)):\n",
        "    torun=0\n",
        "  best_sample,indexes=gene.selection(fit)\n",
        "  best_route=[]\n",
        "  best_route.append(best_sample[0])\n",
        "  crossed=gene.crossover(best_sample,indexes)\n",
        "  new_off=gene.mutation(crossed)\n",
        "  size_of_sample=len(samples)\n",
        "  for io in range(int(size_of_sample/2)):\n",
        "    samples[io]=best_sample[io]\n",
        "  for io2 in range((len(new_off))):\n",
        "    io+=1\n",
        "    samples[io]=new_off[io2]\n",
        "  k+=1\n",
        "\n",
        "\n",
        "for i in range(0,len(best_route[0])):\n",
        "  print(cities[int(best_route[0][i])],end='')\n",
        "  j=i+1\n",
        "  if(j!=len(best_route[0])+1):\n",
        "    print(\" --> \",end='') \n",
        "print(cities[int(best_route[0][0])])\n",
        "final_distance=best_distance+distances[int(best_route[0][0])][int(best_route[0][i])]\n",
        "print(\"\\nTotal Distance to travel: \",final_distance)\n",
        "\n"
      ],
      "execution_count": 48,
      "outputs": [
        {
          "output_type": "stream",
          "text": [
            "PHAGWARA --> JALANDHAR --> VIVA --> LPU --> PHAGWARA\n",
            "\n",
            "Total Distance to travel:  50\n"
          ],
          "name": "stdout"
        }
      ]
    }
  ]
}