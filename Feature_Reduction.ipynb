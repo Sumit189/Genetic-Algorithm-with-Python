{
  "nbformat": 4,
  "nbformat_minor": 0,
  "metadata": {
    "colab": {
      "name": "Feature Reduction.ipynb",
      "provenance": []
    },
    "kernelspec": {
      "name": "python3",
      "display_name": "Python 3"
    }
  },
  "cells": [
    {
      "cell_type": "markdown",
      "metadata": {
        "id": "ca9R_YZy7kvg",
        "colab_type": "text"
      },
      "source": [
        "#Importing Libraries"
      ]
    },
    {
      "cell_type": "code",
      "metadata": {
        "id": "jE7Er4rQ7Yda",
        "colab_type": "code",
        "colab": {}
      },
      "source": [
        "import numpy as np\n",
        "import random\n",
        "import sklearn \n",
        "from sklearn.datasets import load_breast_cancer\n",
        "from sklearn.svm import SVC\n",
        "from sklearn.model_selection import train_test_split\n",
        "from sklearn.metrics import accuracy_score"
      ],
      "execution_count": 0,
      "outputs": []
    },
    {
      "cell_type": "code",
      "metadata": {
        "id": "MauSBaxc8pRb",
        "colab_type": "code",
        "colab": {}
      },
      "source": [
        "#dataset\n",
        "dataset=load_breast_cancer()\n",
        "X=dataset.data\n",
        "Y=dataset.target"
      ],
      "execution_count": 0,
      "outputs": []
    },
    {
      "cell_type": "code",
      "metadata": {
        "id": "QY6GDzfS8Icv",
        "colab_type": "code",
        "colab": {}
      },
      "source": [
        "class genetics(object):\n",
        "  def population_generate(self,sample_size,row_size):\n",
        "    generate=np.zeros([sample_size,row_size],dtype='int16')\n",
        "    for i in range(0,sample_size):\n",
        "      for j in range(0,row_size):\n",
        "        generate[i][j]=(round(np.random.uniform(0,29)))\n",
        "    return generate\n",
        "\n",
        "  def fitness(self,samples,size):\n",
        "    accuracy=[]\n",
        "    for i in range(0,size):\n",
        "      X=dataset.data[:,samples[i]]\n",
        "      Y=dataset.target\n",
        "      X_train,X_test,Y_train,Y_test=train_test_split(X,Y,test_size=0.2)\n",
        "      model=SVC(kernel='linear',random_state=0)\n",
        "      hist=model.fit(X_train,Y_train)\n",
        "      y=hist.predict(X_test)\n",
        "      accuracy.append(accuracy_score(y,Y_test))\n",
        "    return accuracy\n",
        "  \n",
        "  def selection(self,fitness,samples):\n",
        "    best_finder=fitness.copy()\n",
        "    best_finder.sort(reverse=True)\n",
        "    best_4=best_finder\n",
        "    best_4=list(set(best_4))\n",
        "    best_4_a=best_4[0:4]\n",
        "    indexes=[]\n",
        "    for i in range(0,4):\n",
        "      indexes.append(fit.index(best_4_a[i]))\n",
        "    best_samples=samples[indexes].tolist()\n",
        "    return best_samples\n",
        "  \n",
        "  def crossover(self,best_samples):\n",
        "   off_springs=np.zeros([len(best_samples),len(best_samples[0])])\n",
        "   for i in range(0,len(best_samples)):\n",
        "     for j in range(0,len(best_samples[0])):\n",
        "       if j<(len(best_samples[0])/2):\n",
        "         off_springs[i][j]=best_samples[i][j]\n",
        "       else:\n",
        "         if i==0 and i==2:\n",
        "           k=0\n",
        "           while(k<len(best_samples[0])):\n",
        "             if best_samples[i+1][k] not in off_springs[i]:\n",
        "               off_springs[i][j]=best_samples[i+1][k]\n",
        "               break\n",
        "             k+=1\n",
        "         else:\n",
        "           k=0\n",
        "           while(k<len(best_samples[1])):\n",
        "             if best_samples[i-1][k] not in off_springs[i]:\n",
        "               off_springs[i][j]=best_samples[i-1][k]\n",
        "               break\n",
        "             k+=1\n",
        "   return off_springs\n",
        "  \n",
        "  def mutation(self,crossed):\n",
        "    random.seed()\n",
        "    for i in range(len(crossed)):\n",
        "      x=random.randint(0,29)\n",
        "      y=random.randint(0,7)\n",
        "      while x in crossed[i]:\n",
        "        x=random.randint(0,29)\n",
        "      crossed[i][y]=x\n",
        "    return crossed"
      ],
      "execution_count": 0,
      "outputs": []
    },
    {
      "cell_type": "code",
      "metadata": {
        "id": "hPnU8i9WJ2nx",
        "colab_type": "code",
        "colab": {}
      },
      "source": [
        "gene=genetics()"
      ],
      "execution_count": 0,
      "outputs": []
    },
    {
      "cell_type": "code",
      "metadata": {
        "id": "tkJE-1EiMhZK",
        "colab_type": "code",
        "colab": {}
      },
      "source": [
        "samples=gene.population_generate(100,8)"
      ],
      "execution_count": 0,
      "outputs": []
    },
    {
      "cell_type": "code",
      "metadata": {
        "id": "nYMXvnd9Mlp-",
        "colab_type": "code",
        "colab": {
          "base_uri": "https://localhost:8080/",
          "height": 121
        },
        "outputId": "3352456b-1ea6-4d2c-84c8-23e3398bbff0"
      },
      "source": [
        "torun=True\n",
        "number_of_features=8\n",
        "best_so_far=0\n",
        "best_features=[]\n",
        "k=1\n",
        "last_best=0\n",
        "count=0\n",
        "till_best=[]\n",
        "while(torun):\n",
        "  print(\"iteration: \",k)\n",
        "  fit=gene.fitness(samples,number_of_features)\n",
        "  best_so_far=max(fit)\n",
        "  till_best.append(best_so_far)\n",
        "  if(best_so_far<max(till_best)):\n",
        "    torun=False\n",
        "    break\n",
        "  last_best=best_so_far\n",
        "  best_samples=gene.selection(fit,samples)\n",
        "  best_features=[]\n",
        "  best_features.append(best_samples[0])\n",
        "  crossed=gene.crossover(best_samples)\n",
        "  mutate=gene.mutation(crossed)\n",
        "  size_of_sample=int(len(samples[0])/2)\n",
        "  for io in range(0,size_of_sample-1):\n",
        "    samples[io]=best_samples[io]\n",
        "  for io2 in range(len(mutate)):\n",
        "    io+=1\n",
        "    samples[io]=mutate[io2]\n",
        "  k+=1\n",
        "\n",
        "print(\"Best Features : \",best_features[0])\n",
        "print(\"Accuracy : \",last_best)\n",
        "\n",
        "\n",
        "\n"
      ],
      "execution_count": 6,
      "outputs": [
        {
          "output_type": "stream",
          "text": [
            "iteration:  1\n",
            "iteration:  2\n",
            "iteration:  3\n",
            "iteration:  4\n",
            "Best Features :  [3, 0, 25, 15, 19, 1, 18, 23]\n",
            "Accuracy :  0.9912280701754386\n"
          ],
          "name": "stdout"
        }
      ]
    },
    {
      "cell_type": "code",
      "metadata": {
        "id": "UyQ9_HhOlbp_",
        "colab_type": "code",
        "colab": {}
      },
      "source": [
        ""
      ],
      "execution_count": 0,
      "outputs": []
    }
  ]
}